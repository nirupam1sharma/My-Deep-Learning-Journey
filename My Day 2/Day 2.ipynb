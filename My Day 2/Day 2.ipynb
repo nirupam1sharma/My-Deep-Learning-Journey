{
 "cells": [
  {
   "cell_type": "markdown",
   "metadata": {},
   "source": [
    "Practicing what was learnt on day 1"
   ]
  },
  {
   "cell_type": "code",
   "execution_count": 1,
   "metadata": {},
   "outputs": [
    {
     "name": "stdout",
     "output_type": "stream",
     "text": [
      "8.42\n"
     ]
    }
   ],
   "source": [
    "\n",
    "import numpy as np\n",
    "\n",
    "def neural_network(inputs):\n",
    "    weights=np.array([.7,.9,.16])\n",
    "    output=inputs.dot(weights)\n",
    "    return output\n",
    "input1= np.array([4,5,7])\n",
    "print(neural_network(input1))"
   ]
  },
  {
   "cell_type": "markdown",
   "metadata": {},
   "source": [
    "# Day 2 Begins here"
   ]
  },
  {
   "cell_type": "markdown",
   "metadata": {},
   "source": [
    "## Neural network with multple input and multiple output\n",
    "We have a vector of inputs and one single wegiht vector which we use to predict multiple outputs using single weight vector"
   ]
  },
  {
   "cell_type": "code",
   "execution_count": 8,
   "metadata": {},
   "outputs": [],
   "source": [
    "def neural_networkSWMOSW(inputs):\n",
    "    weights=np.array([.7,.9,.16])\n",
    "    output=element_multiplication(inputs,weights)\n",
    "    return output\n",
    "def element_multiplication(vec_a,vec_b):\n",
    "    assert len(vec_a)==len(vec_b)\n",
    "    newlst=np.zeros(len(vec_a))\n",
    "    for i in range(len(vec_b)):\n",
    "        newlst[i]=vec_a[i]*vec_b[i]\n",
    "    return newlst"
   ]
  },
  {
   "cell_type": "markdown",
   "metadata": {},
   "source": [
    "Next we call the above neural network by passing an input array"
   ]
  },
  {
   "cell_type": "code",
   "execution_count": 9,
   "metadata": {},
   "outputs": [
    {
     "name": "stdout",
     "output_type": "stream",
     "text": [
      "[35.  63.  14.4]\n"
     ]
    }
   ],
   "source": [
    "in1=np.array([50,70,90])\n",
    "print(neural_networkSWMOSW(in1))"
   ]
  },
  {
   "cell_type": "markdown",
   "metadata": {},
   "source": [
    "## Neural Network with mutiple input and multiple outputs using multiple weights for each output\n",
    "Input here will be a vector defining different input features and the output will be a a vector defining multiple outputs.\n",
    "We need to have a matrix of weights for each output"
   ]
  },
  {
   "cell_type": "code",
   "execution_count": 72,
   "metadata": {},
   "outputs": [],
   "source": [
    "def neural_networkSIMOMW(inputs):\n",
    "    weights=np.array([[.1,.2,.3],[.4,.5,.6],[.7,.8,.9]])\n",
    "    outputlst=inputs.dot(weights)\n",
    "    return outputlst\n",
    "def weighted_sum(inputs,weights):\n",
    "    return inputs.dot(weights)"
   ]
  },
  {
   "cell_type": "code",
   "execution_count": 73,
   "metadata": {},
   "outputs": [
    {
     "name": "stdout",
     "output_type": "stream",
     "text": [
      "[ 96. 117. 138.]\n"
     ]
    }
   ],
   "source": [
    "in1=np.array([50,70,90])\n",
    "print(neural_networkSIMOMW(in1))"
   ]
  },
  {
   "cell_type": "markdown",
   "metadata": {},
   "source": [
    "## Neural network which works at multiple layers"
   ]
  },
  {
   "cell_type": "markdown",
   "metadata": {},
   "source": [
    "I will here define an array for input value and then create multiple layers for network using different array of weights"
   ]
  },
  {
   "cell_type": "code",
   "execution_count": 64,
   "metadata": {},
   "outputs": [],
   "source": [
    "# code begins"
   ]
  },
  {
   "cell_type": "code",
   "execution_count": 69,
   "metadata": {},
   "outputs": [],
   "source": [
    "def neural_networkMIMWMLMO(vec):\n",
    "    layer_1=np.array([[.1,.2,.3],[.4,.5,.6],[.7,.8,.9]])\n",
    "    layer_2=np.array([[.11,.12,.13],[.14,.15,.16],[.17,.18,.19]])\n",
    "    layer1=vec.dot(layer_1)\n",
    "    layerfnn=layer1.dot(layer_2)\n",
    "    return layerfnn"
   ]
  },
  {
   "cell_type": "code",
   "execution_count": 68,
   "metadata": {},
   "outputs": [
    {
     "data": {
      "text/plain": [
       "array([50.4 , 53.91, 57.42])"
      ]
     },
     "execution_count": 68,
     "metadata": {},
     "output_type": "execute_result"
    }
   ],
   "source": [
    "neural_networkMIMWMLMO(in1)"
   ]
  }
 ],
 "metadata": {
  "kernelspec": {
   "display_name": "Python 3",
   "language": "python",
   "name": "python3"
  },
  "language_info": {
   "codemirror_mode": {
    "name": "ipython",
    "version": 3
   },
   "file_extension": ".py",
   "mimetype": "text/x-python",
   "name": "python",
   "nbconvert_exporter": "python",
   "pygments_lexer": "ipython3",
   "version": "3.6.4"
  }
 },
 "nbformat": 4,
 "nbformat_minor": 2
}
