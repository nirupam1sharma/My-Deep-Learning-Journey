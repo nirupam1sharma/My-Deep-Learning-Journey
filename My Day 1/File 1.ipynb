{
 "cells": [
  {
   "cell_type": "markdown",
   "metadata": {},
   "source": [
    "# Building the first Neural Network"
   ]
  },
  {
   "cell_type": "markdown",
   "metadata": {},
   "source": [
    "## Building the network\n",
    "I start with building a very basic neural network that works on one data point and returns one as well with the help of an example of cricket. Suppose I want to predict the probability of batsman scoring a century in the next cricket match based on the ratings points given on a scale of 1 to 10, 1 being bad and 10 being best "
   ]
  },
  {
   "cell_type": "code",
   "execution_count": 14,
   "metadata": {},
   "outputs": [],
   "source": [
    "def neural_network(input):\n",
    "    weight=.097\n",
    "    prediction= input*weight\n",
    "    return prediction"
   ]
  },
  {
   "cell_type": "markdown",
   "metadata": {},
   "source": [
    "## Create input data point\n",
    "Now I create a set ratings for different batsman in the form a dictionary"
   ]
  },
  {
   "cell_type": "code",
   "execution_count": 15,
   "metadata": {},
   "outputs": [],
   "source": [
    "batsman_ratings={\"Sachin Tendulkar\":9.4,\"Ricky Ponting\":7.5,\"Ben Stokes\":4.5,\"Faf Du Plesis\":7.9}"
   ]
  },
  {
   "cell_type": "markdown",
   "metadata": {},
   "source": [
    "## Predict\n",
    "Now we use the neural network built earlier to predict the probability of scorin a century "
   ]
  },
  {
   "cell_type": "code",
   "execution_count": 16,
   "metadata": {},
   "outputs": [
    {
     "name": "stdout",
     "output_type": "stream",
     "text": [
      "The probability of Sachin Tendulkar scoring a 100: 0.91\n",
      "The probability of Ricky Ponting scoring a 100: 0.73\n",
      "The probability of Ben Stokes scoring a 100: 0.44\n",
      "The probability of Faf Du Plesis scoring a 100: 0.77\n"
     ]
    }
   ],
   "source": [
    "for batsman,rating in batsman_ratings.items():\n",
    "    output=neural_network(batsman_ratings[batsman])\n",
    "    print(\"The probability of %s scoring a 100: %.2f\"%(batsman,output))"
   ]
  },
  {
   "cell_type": "markdown",
   "metadata": {},
   "source": [
    "neural network's weight is a measure of sensitivity between the input of the network and its prediction. If the weight is very high, then even the tiniest input can create a really large prediction! If the weight is very small, then even large inputs will make small predictions. \"Turning up the weight\" amplifies our prediction relative to our input."
   ]
  },
  {
   "cell_type": "markdown",
   "metadata": {},
   "source": [
    "## Building a network with multiple data points\n",
    "In previous example we were using a single data point that is rating. In reality it would better to have other attribute values as well for example number of innings till now and the fitness level (scale of 1 to 10)\n",
    "Now we create a second network that uses these three extra measures into conideration"
   ]
  },
  {
   "cell_type": "code",
   "execution_count": 34,
   "metadata": {},
   "outputs": [],
   "source": [
    "def neural_network(input):\n",
    "    weights=[.297,.16,.2]\n",
    "    pred= weighted_sum(input,weights)\n",
    "    return pred\n",
    "def weighted_sum(a,b):\n",
    "    assert(len(a)==len(b))\n",
    "    output=0\n",
    "    for i in range(len(a)):\n",
    "        output+=(a[i]*b[i])\n",
    "    return output"
   ]
  },
  {
   "cell_type": "markdown",
   "metadata": {},
   "source": [
    "### create a vector of inputs to pass where each vector denotes values for the three different outputs"
   ]
  },
  {
   "cell_type": "code",
   "execution_count": 39,
   "metadata": {},
   "outputs": [
    {
     "name": "stdout",
     "output_type": "stream",
     "text": [
      "The output values for sachine with 9.400000 rating, 500 innings and 7.700000 fitness level is 84.33\n"
     ]
    }
   ],
   "source": [
    "sachin= [9.4,500,7.7]\n",
    "print(\"The output values for sachine with %f rating, %d \\\n",
    "innings and %f fitness level is %.2f\"%(sachin[0],sachin[1],sachin[2],neural_network(sachin)))"
   ]
  },
  {
   "cell_type": "markdown",
   "metadata": {},
   "source": [
    "#### Intermediate exercise on calculating element wise sum, multiplication to produce dot product"
   ]
  },
  {
   "cell_type": "code",
   "execution_count": 43,
   "metadata": {},
   "outputs": [],
   "source": [
    "def elementwise_addition(vec_a,vec_b):\n",
    "    assert(len(vec_a)==len(vec_b))\n",
    "    vec_n=list()\n",
    "    for i in range(len(vec_b)):\n",
    "        vec_n.append(vec_a[i]+vec_b[i])\n",
    "    return vec_n\n",
    "def elementwise_multiplication(vec_a,vec_b):\n",
    "    assert(len(vec_a)==len(vec_b))\n",
    "    vec_n=list()\n",
    "    for i in range(len(vec_b)):\n",
    "        vec_n.append(vec_a[i]*vec_b[i])\n",
    "    return vec_n\n",
    "def vector_sum(vec_n):\n",
    "    output=0\n",
    "    for i in range(len(vec_n)):\n",
    "        output+=vec_n[i]\n",
    "    return output\n",
    "def vector_avg(vec_n):\n",
    "    output=0\n",
    "    for i in range(len(vec_n)):\n",
    "        output+=vec_n[i]\n",
    "    return(output/len(vec_n))"
   ]
  },
  {
   "cell_type": "markdown",
   "metadata": {},
   "source": [
    "Now the above functions can be used to perform dot product by combining element wise multiplication and vector addition"
   ]
  },
  {
   "cell_type": "code",
   "execution_count": 44,
   "metadata": {},
   "outputs": [
    {
     "name": "stdout",
     "output_type": "stream",
     "text": [
      "dot product of [2, 5, 7] and [11, 14, 16] is 204\n"
     ]
    }
   ],
   "source": [
    "## now I give an example of how to perform the dot product\n",
    "vecV1=[2,5,7]\n",
    "vecV2=[11,14,16]\n",
    "print(\"dot product of\",vecV1,\"and\",vecV2,\"is\",vector_sum(elementwise_multiplication(vecV1,vecV2)))"
   ]
  },
  {
   "cell_type": "markdown",
   "metadata": {},
   "source": [
    "***Value of weights define how much importance is given to every attribute. Higher the value means higher the effect of that attribute***\n",
    "it means that our network gives a high score of our inputs based on how similar they are to our weights.\n",
    "\n",
    "We cannot shuffle our weights. Th ey have specifi c positions they need to be in. Furthermore, both the value of the weight AND the value of the input determine the overall impact on the fi nal score. Finally, a negative weight would cause some inputs to reduce the fi nal prediction (and vise versa)"
   ]
  },
  {
   "attachments": {
    "image.png": {
     "image/png": "[encoded data removed]"
    }
   },
   "cell_type": "markdown",
   "metadata": {},
   "source": [
    "![image.png](attachment:image.png)"
   ]
  },
  {
   "cell_type": "markdown",
   "metadata": {},
   "source": [
    "## Using Numpy to create neural network"
   ]
  },
  {
   "cell_type": "code",
   "execution_count": 54,
   "metadata": {},
   "outputs": [],
   "source": [
    "import numpy as np  \n",
    "def neural_network(input):\n",
    "    weights = np.array([0.297, 0.16, 0.2])\n",
    "    pred = input.dot(weights)\n",
    "    return pred"
   ]
  },
  {
   "cell_type": "code",
   "execution_count": 53,
   "metadata": {},
   "outputs": [
    {
     "name": "stdout",
     "output_type": "stream",
     "text": [
      "84.3318\n"
     ]
    }
   ],
   "source": [
    "Sachin= np.array([9.4,500,7.7]) \n",
    "pred = neural_network(Sachin) \n",
    "print(pred)"
   ]
  },
  {
   "cell_type": "code",
   "execution_count": null,
   "metadata": {},
   "outputs": [],
   "source": []
  },
  {
   "cell_type": "code",
   "execution_count": null,
   "metadata": {},
   "outputs": [],
   "source": []
  }
 ],
 "metadata": {
  "kernelspec": {
   "display_name": "Python 3",
   "language": "python",
   "name": "python3"
  },
  "language_info": {
   "codemirror_mode": {
    "name": "ipython",
    "version": 3
   },
   "file_extension": ".py",
   "mimetype": "text/x-python",
   "name": "python",
   "nbconvert_exporter": "python",
   "pygments_lexer": "ipython3",
   "version": "3.6.4"
  }
 },
 "nbformat": 4,
 "nbformat_minor": 2
}
